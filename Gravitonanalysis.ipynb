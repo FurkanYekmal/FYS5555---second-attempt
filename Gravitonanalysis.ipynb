{
 "cells": [
  {
   "cell_type": "markdown",
   "metadata": {},
   "source": [
    "<a id='contents'></a>"
   ]
  },
  {
   "cell_type": "markdown",
   "metadata": {},
   "source": [
    "<a id='running'></a>"
   ]
  },
  {
   "cell_type": "markdown",
   "metadata": {},
   "source": [
    "<a id='setup_computer'></a>"
   ]
  },
  {
   "cell_type": "code",
   "execution_count": 1,
   "metadata": {},
   "outputs": [
    {
     "name": "stdout",
     "output_type": "stream",
     "text": [
      "Requirement already satisfied: pip in /srv/conda/envs/notebook/lib/python3.10/site-packages (24.0)\n",
      "Requirement already satisfied: numpy in /srv/conda/envs/notebook/lib/python3.10/site-packages (1.26.4)\n",
      "Requirement already satisfied: pandas in /srv/conda/envs/notebook/lib/python3.10/site-packages (2.2.2)\n",
      "Requirement already satisfied: uproot3 in /srv/conda/envs/notebook/lib/python3.10/site-packages (3.14.4)\n",
      "Requirement already satisfied: matplotlib in /srv/conda/envs/notebook/lib/python3.10/site-packages (3.8.4)\n",
      "Collecting matplotlib\n",
      "  Downloading matplotlib-3.9.0-cp310-cp310-manylinux_2_17_x86_64.manylinux2014_x86_64.whl.metadata (11 kB)\n",
      "Requirement already satisfied: python-dateutil>=2.8.2 in /srv/conda/envs/notebook/lib/python3.10/site-packages (from pandas) (2.8.2)\n",
      "Requirement already satisfied: pytz>=2020.1 in /srv/conda/envs/notebook/lib/python3.10/site-packages (from pandas) (2023.3.post1)\n",
      "Requirement already satisfied: tzdata>=2022.7 in /srv/conda/envs/notebook/lib/python3.10/site-packages (from pandas) (2024.1)\n",
      "Requirement already satisfied: awkward0 in /srv/conda/envs/notebook/lib/python3.10/site-packages (from uproot3) (0.15.5)\n",
      "Requirement already satisfied: uproot3-methods in /srv/conda/envs/notebook/lib/python3.10/site-packages (from uproot3) (0.10.1)\n",
      "Requirement already satisfied: cachetools in /srv/conda/envs/notebook/lib/python3.10/site-packages (from uproot3) (5.3.3)\n",
      "Requirement already satisfied: contourpy>=1.0.1 in /srv/conda/envs/notebook/lib/python3.10/site-packages (from matplotlib) (1.2.1)\n",
      "Requirement already satisfied: cycler>=0.10 in /srv/conda/envs/notebook/lib/python3.10/site-packages (from matplotlib) (0.12.1)\n",
      "Requirement already satisfied: fonttools>=4.22.0 in /srv/conda/envs/notebook/lib/python3.10/site-packages (from matplotlib) (4.51.0)\n",
      "Requirement already satisfied: kiwisolver>=1.3.1 in /srv/conda/envs/notebook/lib/python3.10/site-packages (from matplotlib) (1.4.5)\n",
      "Requirement already satisfied: packaging>=20.0 in /srv/conda/envs/notebook/lib/python3.10/site-packages (from matplotlib) (23.2)\n",
      "Requirement already satisfied: pillow>=8 in /srv/conda/envs/notebook/lib/python3.10/site-packages (from matplotlib) (10.3.0)\n",
      "Requirement already satisfied: pyparsing>=2.3.1 in /srv/conda/envs/notebook/lib/python3.10/site-packages (from matplotlib) (3.1.2)\n",
      "Requirement already satisfied: six>=1.5 in /srv/conda/envs/notebook/lib/python3.10/site-packages (from python-dateutil>=2.8.2->pandas) (1.16.0)\n",
      "Downloading matplotlib-3.9.0-cp310-cp310-manylinux_2_17_x86_64.manylinux2014_x86_64.whl (8.3 MB)\n",
      "\u001b[2K   \u001b[90m━━━━━━━━━━━━━━━━━━━━━━━━━━━━━━━━━━━━━━━━\u001b[0m \u001b[32m8.3/8.3 MB\u001b[0m \u001b[31m28.4 MB/s\u001b[0m eta \u001b[36m0:00:00\u001b[0m00:01\u001b[0m00:01\u001b[0m\n",
      "\u001b[?25hInstalling collected packages: matplotlib\n",
      "Successfully installed matplotlib-3.9.0\n"
     ]
    }
   ],
   "source": [
    "import sys\n",
    "!{sys.executable} -m pip install --upgrade --user pip\n",
    "!{sys.executable} -m pip install -U numpy pandas uproot3 matplotlib --user"
   ]
  },
  {
   "cell_type": "markdown",
   "metadata": {},
   "source": [
    "<a id='setup_everytime'></a>"
   ]
  },
  {
   "cell_type": "markdown",
   "metadata": {},
   "source": [
    "## To setup everytime\n",
    "Cell -> Run All Below\n",
    "\n",
    "to be done every time you re-open this notebook\n",
    "\n",
    "We're going to be using a number of tools to help us:\n",
    "* uproot: lets us read .root files typically used in particle physics into data formats used in python\n",
    "* pandas: lets us store data as dataframes, a format widely used in python\n",
    "* numpy: provides numerical calculations such as histogramming\n",
    "* matplotlib: common tool for making plots, figures, images, visualisations"
   ]
  },
  {
   "cell_type": "code",
   "execution_count": 3,
   "metadata": {},
   "outputs": [],
   "source": [
    "import uproot3 # for reading .root files\n",
    "import pandas as pd # to store data as dataframe\n",
    "import time # to measure time to analyse\n",
    "import math # for mathematical functions such as square root\n",
    "import numpy as np # for numerical calculations such as histogramming\n",
    "import matplotlib.pyplot as plt # for plotting\n",
    "from matplotlib.ticker import AutoMinorLocator,LogLocator,LogFormatterSciNotation # for minor ticks\n",
    "\n",
    "import infofile # local file containing cross-sections, sums of weights, dataset IDs"
   ]
  },
  {
   "cell_type": "markdown",
   "metadata": {},
   "source": [
    "<a id='fraction'></a>"
   ]
  },
  {
   "cell_type": "markdown",
   "metadata": {},
   "source": [
    "## Lumi, fraction, file path\n",
    "\n",
    "General definitions of luminosity, fraction of data used, where to access the input files"
   ]
  },
  {
   "cell_type": "code",
   "execution_count": 4,
   "metadata": {},
   "outputs": [],
   "source": [
    "#lumi = 0.5 # fb-1 # data_A only\n",
    "#lumi = 1.9 # fb-1 # data_B only\n",
    "#lumi = 2.9 # fb-1 # data_C only\n",
    "#lumi = 4.7 # fb-1 # data_D only\n",
    "lumi = 10 # fb-1 # data_A,data_B,data_C,data_D\n",
    "\n",
    "fraction = 0.09 # reduce this is you want the code to run quicker\n",
    "                                                                                                                                  \n",
    "#tuple_path = \"Input/4lep/\" # local \n",
    "tuple_path = \"https://atlas-opendata.web.cern.ch/atlas-opendata/samples/2020/4lep/\" # web address\n"
   ]
  },
  {
   "cell_type": "markdown",
   "metadata": {},
   "source": [
    "<a id='samples'></a>"
   ]
  },
  {
   "cell_type": "markdown",
   "metadata": {},
   "source": [
    "## Samples\n",
    "\n",
    "samples to process"
   ]
  },
  {
   "cell_type": "code",
   "execution_count": 34,
   "metadata": {},
   "outputs": [],
   "source": [
    "samples = {\n",
    "\n",
    "    'data': {\n",
    "        'list' : ['data_A','data_B']\n",
    "    },\n",
    "    \n",
    "    r'$Z,t\\bar{t}$' : { # Z + ttbar\n",
    "        'list' : ['Zee','Zmumu','ttbar_lep'],\n",
    "        'color' : \"#6b59d3\" # purple\n",
    "    },\n",
    "    \n",
    "    r'$t\\bar{t}V$' : { # ttV\n",
    "        'list' : ['ttW','ttee','ttmumu'], # ttW, ttZ(->ee), ttZ(->mm)\n",
    "        'color' : \"#f0f423\" # yellow\n",
    "    },\n",
    "    \n",
    "    'ZZ' : { # ZZ->llll\n",
    "        'list' : ['llll'],\n",
    "        'color' : \"#ff0000\" # red\n",
    "    },\n",
    "    \n",
    "    'Graviton' : {\n",
    "        'list' : ['RS_G_ZZ_llll_c10_m0500'], # mG = 500 GeV\n",
    "        'color' : \"#baff8d\" # green\n",
    "    },\n",
    "\n",
    "}"
   ]
  },
  {
   "cell_type": "markdown",
   "metadata": {},
   "source": [
    "Define function to get data from files\n",
    "\n",
    "The datasets used in this notebook have already been filtered to include at least 4 leptons per event, so that processing is quicker."
   ]
  },
  {
   "cell_type": "code",
   "execution_count": 35,
   "metadata": {},
   "outputs": [],
   "source": [
    "def get_data_from_files():\n",
    "\n",
    "    data = {} # define empty dictionary to hold dataframes\n",
    "    for s in samples: # loop over samples\n",
    "        print('Processing '+s+' samples') # print which sample\n",
    "        frames = [] # define empty list to hold data\n",
    "        for val in samples[s]['list']: # loop over each file\n",
    "            if s == 'data': prefix = \"Data/\" # Data prefix\n",
    "            else: # MC prefix\n",
    "                prefix = \"MC/mc_\"+str(infofile.infos[val][\"DSID\"])+\".\"\n",
    "            fileString = tuple_path+prefix+val+\".4lep.root\" # file name to open\n",
    "            temp = read_file(fileString,val) # call the function read_file defined below\n",
    "            frames.append(temp) # append dataframe returned from read_file to list of dataframes\n",
    "        data[s] = pd.concat(frames) # dictionary entry is concatenated dataframes\n",
    "    \n",
    "    return data # return dictionary of dataframes"
   ]
  },
  {
   "cell_type": "markdown",
   "metadata": {},
   "source": [
    "define function to calculate weight of MC event"
   ]
  },
  {
   "cell_type": "code",
   "execution_count": 36,
   "metadata": {},
   "outputs": [],
   "source": [
    "def calc_weight(xsec_weight, mcWeight, scaleFactor_PILEUP,\n",
    "                scaleFactor_ELE, scaleFactor_MUON, \n",
    "                scaleFactor_LepTRIGGER ):\n",
    "    return xsec_weight*mcWeight*scaleFactor_PILEUP*scaleFactor_ELE*scaleFactor_MUON*scaleFactor_LepTRIGGER"
   ]
  },
  {
   "cell_type": "markdown",
   "metadata": {},
   "source": [
    "define function to get cross-section weight"
   ]
  },
  {
   "cell_type": "code",
   "execution_count": 37,
   "metadata": {},
   "outputs": [],
   "source": [
    "def get_xsec_weight(sample):\n",
    "    info = infofile.infos[sample] # open infofile\n",
    "    xsec_weight = (lumi*1000*info[\"xsec\"])/(info[\"sumw\"]*info[\"red_eff\"]) #*1000 to go from fb-1 to pb-1\n",
    "    return xsec_weight # return cross-section weight"
   ]
  },
  {
   "cell_type": "markdown",
   "metadata": {},
   "source": [
    "define function to calculate 4-lepton invariant mass"
   ]
  },
  {
   "cell_type": "code",
   "execution_count": 38,
   "metadata": {},
   "outputs": [],
   "source": [
    "def calc_mllll(lep_pt,lep_eta,lep_phi,lep_E):\n",
    "    # first lepton is [0], 2nd lepton is [1] etc\n",
    "    px_0 = lep_pt[0]*math.cos(lep_phi[0]) # x-component of lep[0] momentum\n",
    "    py_0 = lep_pt[0]*math.sin(lep_phi[0]) # y-component of lep[0] momentum\n",
    "    pz_0 = lep_pt[0]*math.sinh(lep_eta[0]) # z-component of lep[0] momentum\n",
    "    px_1 = lep_pt[1]*math.cos(lep_phi[1]) # x-component of lep[1] momentum\n",
    "    py_1 = lep_pt[1]*math.sin(lep_phi[1]) # y-component of lep[1] momentum\n",
    "    pz_1 = lep_pt[1]*math.sinh(lep_eta[1]) # z-component of lep[1] momentum\n",
    "    px_2 = lep_pt[2]*math.cos(lep_phi[2]) # x-component of lep[2] momentum\n",
    "    py_2 = lep_pt[2]*math.sin(lep_phi[2]) # y-component of lep[2] momentum\n",
    "    pz_2 = lep_pt[2]*math.sinh(lep_eta[2]) # z-component of lep[3] momentum\n",
    "    px_3 = lep_pt[3]*math.cos(lep_phi[3]) # x-component of lep[3] momentum\n",
    "    py_3 = lep_pt[3]*math.sin(lep_phi[3]) # y-component of lep[3] momentum\n",
    "    pz_3 = lep_pt[3]*math.sinh(lep_eta[3]) # z-component of lep[3] momentum\n",
    "    sumpx = px_0 + px_1 + px_2 + px_3 # x-component of 4-lepton momentum\n",
    "    sumpy = py_0 + py_1 + py_2 + py_3 # y-component of 4-lepton momentum\n",
    "    sumpz = pz_0 + pz_1 + pz_2 + pz_3 # z-component of 4-lepton momentum\n",
    "    sumE = lep_E[0] + lep_E[1] + lep_E[2] + lep_E[3] # energy of 4-lepton system\n",
    "    return math.sqrt(sumE**2 - sumpx**2 - sumpy**2 - sumpz**2)/1000 #/1000 to go from MeV to GeV"
   ]
  },
  {
   "cell_type": "markdown",
   "metadata": {},
   "source": [
    "<a id='changing_cut'></a>"
   ]
  },
  {
   "cell_type": "markdown",
   "metadata": {},
   "source": [
    "## Changing a cut\n",
    "\n",
    "If you change a cut: Cell -> Run All Below\n",
    "\n",
    "If you change a cut here, you also need to make sure the cut is applied in the \"[Applying a cut](#applying_cut)\" cell."
   ]
  },
  {
   "cell_type": "code",
   "execution_count": 39,
   "metadata": {},
   "outputs": [],
   "source": [
    "# cut on lepton charge\n",
    "# paper: \"selecting two pairs of isolated leptons, each of which is comprised of two leptons with the same flavour and opposite charge\"\n",
    "def cut_lep_charge(lep_charge):\n",
    "# throw away when sum of lepton charges is not equal to 0\n",
    "# first lepton is [0], 2nd lepton is [1] etc\n",
    "    return lep_charge[0] + lep_charge[1] + lep_charge[2] + lep_charge[3] != 0\n",
    "\n",
    "# cut on lepton type\n",
    "# paper: \"selecting two pairs of isolated leptons, each of which is comprised of two leptons with the same flavour and opposite charge\"\n",
    "def cut_lep_type(lep_type):\n",
    "# for an electron lep_type is 11\n",
    "# for a muon lep_type is 13\n",
    "# throw away when none of eeee, mumumumu, eemumu\n",
    "    sum_lep_type = lep_type[0] + lep_type[1] + lep_type[2] + lep_type[3]\n",
    "    return (sum_lep_type != 44) and (sum_lep_type != 48) and (sum_lep_type != 52)"
   ]
  },
  {
   "cell_type": "markdown",
   "metadata": {},
   "source": [
    "<a id='applying_cut'></a>"
   ]
  },
  {
   "cell_type": "markdown",
   "metadata": {},
   "source": [
    "## Applying a cut\n",
    "If you add a cut: Cell -> Run All Below"
   ]
  },
  {
   "cell_type": "code",
   "execution_count": 40,
   "metadata": {},
   "outputs": [],
   "source": [
    "def read_file(path, sample):\n",
    "  start = time.time()  # start the clock\n",
    "  print(\"\\tProcessing: \"+sample)  # print which sample is being processed\n",
    "  data_all = pd.DataFrame()  # define empty pandas DataFrame to hold all data for this sample\n",
    "  tree = uproot3.open(path)[\"mini\"]  # open the tree called mini\n",
    "  numevents = uproot3.numentries(path, \"mini\")  # number of events\n",
    "  if 'data' not in sample: xsec_weight = get_xsec_weight(sample)  # get cross-section weight\n",
    "  for data in tree.iterate(['lep_pt','lep_eta','lep_phi',\n",
    "                          'lep_E','lep_charge','lep_type',  \n",
    "                          # add more variables here if you make cuts on them  \n",
    "                          'mcWeight','scaleFactor_PILEUP',\n",
    "                          'scaleFactor_ELE','scaleFactor_MUON',\n",
    "                          'scaleFactor_LepTRIGGER'],  # variables to calculate Monte Carlo weight\n",
    "                          outputtype=pd.DataFrame,  # choose output type as pandas DataFrame\n",
    "                          entrystop=numevents*fraction):  # process up to numevents*fraction\n",
    "\n",
    "    nIn = len(data.index)  # number of events in this batch\n",
    "\n",
    "    if 'data' not in sample:  # only do this for Monte Carlo simulation files\n",
    "      # multiply all Monte Carlo weights and scale factors together to give total weight\n",
    "      data['totalWeight'] = np.vectorize(calc_weight)(xsec_weight,\n",
    "                                                        data.mcWeight,\n",
    "                                                        data.scaleFactor_PILEUP,\n",
    "                                                        data.scaleFactor_ELE,\n",
    "                                                        data.scaleFactor_MUON,\n",
    "                                                        data.scaleFactor_LepTRIGGER)\n",
    "\n",
    "      # cut on lepton charge using the function cut_lep_charge defined above\n",
    "      fail = data[ np.vectorize(cut_lep_charge)(data.lep_charge) ].index\n",
    "      data.drop(fail, inplace=True)\n",
    "\n",
    "      # cut on lepton type using the function cut_lep_type defined above\n",
    "      fail = data[ np.vectorize(cut_lep_type)(data.lep_type) ].index\n",
    "      data.drop(fail, inplace=True)\n",
    "\n",
    "      # calculation of 4-lepton invariant mass using the function calc_mllll defined above\n",
    "\n",
    "    data['mllll'] = data.apply(lambda row: calc_mllll(row['lep_pt'], row['lep_eta'], row['lep_phi'], row['lep_E']), axis=1)\n",
    "    \n",
    "      # dataframe contents can be printed at any stage like this\n",
    "      #print(data)\n",
    "\n",
    "      # dataframe column can be printed at any stage like this\n",
    "      #print(data['lep_pt'])\n",
    "\n",
    "      # multiple dataframe columns can be printed at any stage like this\n",
    "      #print(data[['lep_pt','lep_eta']])\n",
    "\n",
    "    nOut = len(data.index)  # number of events passing cuts in this batch\n",
    "\n",
    "    # Append dataframe using concat instead of append\n",
    "    data_all = pd.concat([data_all, data], ignore_index=True)\n",
    "\n",
    "    elapsed = time.time() - start  # time taken to process\n",
    "    print(\"\\t\\t nIn: \"+str(nIn)+\",\\t nOut: \\t\"+str(nOut)+\"\\t in \"+str(round(elapsed,1))+\"s\")  # events before and after\n",
    "\n",
    "  return data_all  # return dataframe containing events passing all cuts\n"
   ]
  },
  {
   "cell_type": "markdown",
   "metadata": {},
   "source": [
    "This is where the processing happens (this will take some minutes)"
   ]
  },
  {
   "cell_type": "code",
   "execution_count": 41,
   "metadata": {
    "scrolled": false
   },
   "outputs": [
    {
     "name": "stdout",
     "output_type": "stream",
     "text": [
      "Processing data samples\n",
      "\tProcessing: data_A\n",
      "\t\t nIn: 3,\t nOut: \t3\t in 0.5s\n",
      "\tProcessing: data_B\n",
      "\t\t nIn: 14,\t nOut: \t14\t in 0.5s\n",
      "Processing $Z,t\\bar{t}$ samples\n",
      "\tProcessing: Zee\n",
      "\t\t nIn: 80,\t nOut: \t17\t in 1.4s\n",
      "\tProcessing: Zmumu\n",
      "\t\t nIn: 61,\t nOut: \t26\t in 1.2s\n",
      "\tProcessing: ttbar_lep\n",
      "\t\t nIn: 92,\t nOut: \t28\t in 1.8s\n",
      "Processing $t\\bar{t}V$ samples\n",
      "\tProcessing: ttW\n",
      "\t\t nIn: 123,\t nOut: \t27\t in 3.1s\n",
      "\tProcessing: ttee\n",
      "\t\t nIn: 2888,\t nOut: \t1285\t in 55.5s\n",
      "\tProcessing: ttmumu\n",
      "\t\t nIn: 2397,\t nOut: \t983\t in 38.6s\n",
      "Processing ZZ samples\n",
      "\tProcessing: llll\n",
      "\t\t nIn: 49885,\t nOut: \t47162\t in 39.6s\n",
      "Processing Graviton samples\n",
      "\tProcessing: RS_G_ZZ_llll_c10_m0500\n",
      "\t\t nIn: 584,\t nOut: \t538\t in 22.2s\n",
      "Time taken: 164.5s\n"
     ]
    }
   ],
   "source": [
    "start = time.time() # time at start of whole processing\n",
    "data = get_data_from_files() # process all files\n",
    "elapsed = time.time() - start # time after whole processing\n",
    "print(\"Time taken: \"+str(round(elapsed,1))+\"s\") # print total time taken to process every file"
   ]
  },
  {
   "cell_type": "markdown",
   "metadata": {},
   "source": [
    "<a id='plotting'></a>"
   ]
  },
  {
   "cell_type": "markdown",
   "metadata": {},
   "source": [
    "## Plotting\n",
    "If you only want a make a change in plotting: Cell -> Run All Below\n",
    "\n",
    "Define class to display log values"
   ]
  },
  {
   "cell_type": "code",
   "execution_count": 42,
   "metadata": {},
   "outputs": [],
   "source": [
    "# define class to display 1 and 10 normally\n",
    "class CustomTicker(LogFormatterSciNotation): \n",
    "    def __call__(self, x, pos=None): \n",
    "        if x not in [1,10]: # not 1 or 10\n",
    "            return LogFormatterSciNotation.__call__(self,x, pos=None)\n",
    "        else: # 1 or 10\n",
    "            return \"{x:g}\".format(x=x) # standard notation"
   ]
  },
  {
   "cell_type": "markdown",
   "metadata": {},
   "source": [
    "Define function to plot the data"
   ]
  },
  {
   "cell_type": "code",
   "execution_count": 43,
   "metadata": {},
   "outputs": [],
   "source": [
    "def plot_data(data):\n",
    "\n",
    "    xmin = 130 # GeV\n",
    "    xmax = 1230 # GeV\n",
    "    step_size = 55 # GeV\n",
    "\n",
    "    bin_edges = np.arange(start=xmin, # The interval includes this value\n",
    "                     stop=xmax+step_size, # The interval doesn't include this value\n",
    "                     step=step_size ) # Spacing between values\n",
    "    bin_centres = np.arange(start=xmin+step_size/2, # The interval includes this value\n",
    "                            stop=xmax+step_size/2, # The interval doesn't include this value\n",
    "                            step=step_size ) # Spacing between values\n",
    "    \n",
    "    data_x, _ = np.histogram(data['data']['mllll'], bins=bin_edges) # histogram the data\n",
    "    data_x_errors = np.sqrt( data_x ) # statistical error on the data\n",
    "\n",
    "    signal_x = data['Graviton']['mllll'] # histogram the signal\n",
    "    signal_weights = data['Graviton'].totalWeight # get the weights of the signal events\n",
    "    signal_color = samples['Graviton']['color'] # get the colour for the signal bar\n",
    "\n",
    "    mc_x = [] # define list to hold the Monte Carlo histogram entries\n",
    "    mc_weights = [] # define list to hold the Monte Carlo weights\n",
    "    mc_colors = [] # define list to hold the colors of the Monte Carlo bars\n",
    "    mc_labels = [] # define list to hold the legend labels of the Monte Carlo bars\n",
    "\n",
    "    for s in samples: # loop over samples\n",
    "        if s not in ['data', 'Graviton']: # if not data nor signal\n",
    "            mc_x.append( data[s]['mllll'] ) # append to the list of Monte Carlo histogram entries\n",
    "            mc_weights.append( data[s].totalWeight ) # append to the list of Monte Carlo weights\n",
    "            mc_colors.append( samples[s]['color'] ) # append to the list of Monte Carlo bar colors\n",
    "            mc_labels.append( s ) # append to the list of Monte Carlo legend labels\n",
    "    \n",
    "\n",
    "\n",
    "    # *************\n",
    "    # Main plot \n",
    "    # *************\n",
    "    main_axes = plt.gca() # get current axes\n",
    "    \n",
    "    # plot the data points\n",
    "    main_axes.errorbar(x=bin_centres, y=data_x, yerr=data_x_errors,\n",
    "                       fmt='ko', # 'k' means black and 'o' is for circles \n",
    "                       label='Data') \n",
    "    \n",
    "    # plot the Monte Carlo bars\n",
    "    mc_heights = main_axes.hist(mc_x, bins=bin_edges, \n",
    "                                weights=mc_weights, stacked=True, \n",
    "                                color=mc_colors, label=mc_labels )\n",
    "    \n",
    "    mc_x_tot = mc_heights[0][-1] # stacked background MC y-axis value\n",
    "    \n",
    "    # calculate MC statistical uncertainty: sqrt(sum w^2)\n",
    "    mc_x_err = np.sqrt(np.histogram(np.hstack(mc_x), bins=bin_edges, weights=np.hstack(mc_weights)**2)[0])\n",
    "    \n",
    "    # plot the signal bar\n",
    "    main_axes.hist(signal_x, bins=bin_edges, bottom=mc_x_tot, \n",
    "                   weights=signal_weights, color=signal_color,\n",
    "                   label='Graviton')\n",
    "    \n",
    "    # plot the statistical uncertainty\n",
    "    main_axes.bar(bin_centres, # x\n",
    "                  2*mc_x_err, # heights\n",
    "                  alpha=0.5, # half transparency\n",
    "                  bottom=mc_x_tot-mc_x_err, color='none', \n",
    "                  hatch=\"////\", width=step_size, label='Stat. Unc.' )\n",
    "\n",
    "    # set the x-limit of the main axes\n",
    "    main_axes.set_xlim( left=xmin, right=xmax ) \n",
    "    \n",
    "    # separation of x axis minor ticks\n",
    "    main_axes.xaxis.set_minor_locator( AutoMinorLocator() ) \n",
    "    \n",
    "    # set the axis tick parameters for the main axes\n",
    "    main_axes.tick_params(which='both', # ticks on both x and y axes\n",
    "                          direction='in', # Put ticks inside and outside the axes\n",
    "                          top=True, # draw ticks on the top axis\n",
    "                          right=True ) # draw ticks on right axis\n",
    "    \n",
    "    # x-axis label\n",
    "    main_axes.set_xlabel(r'4-lepton invariant mass $\\mathrm{m_{4l}}$ [GeV]',\n",
    "                        fontsize=13, x=1, horizontalalignment='right' )\n",
    "    \n",
    "    # write y-axis label for main axes\n",
    "    main_axes.set_ylabel('Events / '+str(step_size)+' GeV',\n",
    "                         y=1, horizontalalignment='right') \n",
    "    \n",
    "    # add minor ticks on y-axis for main axes\n",
    "    main_axes.yaxis.set_minor_locator( AutoMinorLocator() ) \n",
    "    \n",
    "    main_axes.set_yscale('log') # set y-scale\n",
    "    smallest_contribution = mc_heights[0][0] # get smallest contribution\n",
    "    smallest_contribution.sort() # sort smallest contribution\n",
    "    bottom = np.amax(data_x)/1000 # set bottom limit on y-axis\n",
    "    top = np.amax(data_x)*100 # set top limit on y-axis\n",
    "    main_axes.set_ylim( bottom=bottom, top=top ) # y-axis limits\n",
    "    main_axes.yaxis.set_major_formatter( CustomTicker() ) \n",
    "    locmin = LogLocator(base=10.0, # log base 10\n",
    "                        subs=(0.1,0.2,0.3,0.4,0.5,0.6,0.7,0.8,0.9) ) # minor tick every 0.1 \n",
    "    main_axes.yaxis.set_minor_locator( locmin ) # set minor ticks\n",
    "\n",
    "    # Add text 'ATLAS Open Data' on plot\n",
    "    plt.text(0.05, # x\n",
    "             0.93, # y\n",
    "             'ATLAS Open Data', # text\n",
    "             transform=main_axes.transAxes, # coordinate system used is that of main_axes\n",
    "             fontsize=13 ) \n",
    "    \n",
    "    # Add text 'for education' on plot\n",
    "    plt.text(0.05, # x\n",
    "             0.88, # y\n",
    "             'for education', # text\n",
    "             transform=main_axes.transAxes, # coordinate system used is that of main_axes\n",
    "             style='italic',\n",
    "             fontsize=8 ) \n",
    "    \n",
    "    # Add energy and luminosity\n",
    "    lumi_used = str(round(lumi*fraction,2)) # luminosity to write on the plot\n",
    "    plt.text(0.05, # x\n",
    "             0.82, # y\n",
    "             '$\\sqrt{s}$=13 TeV, '+lumi_used+' fb$^{-1}$', # text\n",
    "             transform=main_axes.transAxes ) # coordinate system used is that of main_axes\n",
    "    \n",
    "    # Add a label for the analysis carried out\n",
    "    plt.text(0.05, # x\n",
    "             0.75, # y\n",
    "             r'$G \\rightarrow ZZ \\rightarrow l^+l^-l^+l^-$', # text \n",
    "             transform=main_axes.transAxes ) # coordinate system used is that of main_axes\n",
    "\n",
    "    # draw the legend\n",
    "    main_axes.legend(ncol=2, # 2 columns\n",
    "                     frameon=False ) # no box around the legend\n",
    "    \n",
    "    return"
   ]
  },
  {
   "cell_type": "markdown",
   "metadata": {},
   "source": [
    "Call the function to plot the data"
   ]
  },
  {
   "cell_type": "code",
   "execution_count": 44,
   "metadata": {},
   "outputs": [
    {
     "name": "stdout",
     "output_type": "stream",
     "text": [
      "                                          lep_pt  \\\n",
      "0     [49138.344, 43451.65, 43018.27, 27352.213]   \n",
      "1    [175558.73, 138846.67, 106696.53, 79776.73]   \n",
      "2    [65284.066, 37290.766, 12426.926, 8804.564]   \n",
      "0      [49045.12, 38049.31, 35706.69, 34415.664]   \n",
      "1       [28315.65, 27379.48, 18381.793, 7977.39]   \n",
      "2    [52658.766, 50908.273, 39159.105, 28929.13]   \n",
      "3   [188332.34, 136203.61, 56817.598, 11388.731]   \n",
      "4       [73055.63, 36003.42, 34772.84, 28750.44]   \n",
      "5    [45560.914, 42681.53, 20502.748, 11710.931]   \n",
      "6    [65421.633, 35774.56, 15092.131, 11639.622]   \n",
      "7      [63783.8, 40107.074, 21195.172, 10364.31]   \n",
      "8      [28958.545, 28543.45, 8355.206, 7019.401]   \n",
      "9    [99818.43, 28418.986, 10979.692, 10289.164]   \n",
      "10     [35399.582, 31610.88, 9356.227, 7311.662]   \n",
      "11   [47615.34, 39254.035, 20912.867, 16226.882]   \n",
      "12   [80432.46, 42100.566, 28484.209, 14414.887]   \n",
      "13    [50715.46, 33097.516, 12241.644, 8078.165]   \n",
      "\n",
      "                                              lep_eta  \\\n",
      "0   [-1.6573768, -1.0109897, -0.020450987, 0.04534...   \n",
      "1         [2.076854, 0.9641987, 0.4538123, 2.3985784]   \n",
      "2    [0.103151694, 0.43131045, 0.98646265, 1.1151001]   \n",
      "0   [-0.8824111, -1.7335045, -1.3760306, -0.13118172]   \n",
      "1         [2.3774438, 1.713762, 1.0104392, 1.1597165]   \n",
      "2         [2.245771, 1.0578663, 0.9952149, 1.8823078]   \n",
      "3         [0.6310332, -0.6675295, 0.570828, 0.637045]   \n",
      "4   [0.06796946, -1.9286042, 0.081867516, -2.4864023]   \n",
      "5    [0.99241847, 1.5680989, -0.22769548, -1.6134893]   \n",
      "6    [-0.8339631, -1.074573, 0.033713963, -0.3203671]   \n",
      "7       [0.2946816, -0.67820746, 1.236929, 1.3933258]   \n",
      "8        [0.35677484, 2.377282, 0.6277341, 2.1831727]   \n",
      "9   [-0.12197401, 1.1720377, -0.65592223, -0.3944211]   \n",
      "10      [2.1090097, 0.97651786, 1.4205439, 1.4729939]   \n",
      "11    [-0.059259184, 1.9679099, 2.4421287, 0.3232328]   \n",
      "12   [-1.9121411, -2.0476964, -1.7332374, -1.0897288]   \n",
      "13       [2.0855992, 0.9416564, 2.415674, -1.2916158]   \n",
      "\n",
      "                                              lep_phi  \\\n",
      "0      [1.0515057, -2.2011163, 1.9958615, -3.0341716]   \n",
      "1      [1.2929627, -2.2561386, -1.7970102, 0.5870669]   \n",
      "2       [2.3295352, -2.4817212, 2.2234292, 2.4967396]   \n",
      "0      [-2.775975, 0.22967395, 0.7241392, -1.7246517]   \n",
      "1       [-1.45692, -2.9390755, 1.5281202, 0.80557835]   \n",
      "2      [-2.237309, 0.27803475, -2.8618033, 0.6080705]   \n",
      "3      [-1.0333078, 2.6281483, -1.0222206, 1.0284747]   \n",
      "4     [2.0499742, 3.0742655, -2.2825913, -0.68923146]   \n",
      "5    [-0.109430544, 2.9785538, 1.0846734, -1.5683464]   \n",
      "6      [-1.8763368, 0.40994343, 1.4608458, 2.0912402]   \n",
      "7     [-0.17143026, -1.8585001, -2.9653988, 2.992877]   \n",
      "8      [-2.867942, 0.35240382, 0.14080732, 3.0264318]   \n",
      "9      [0.5109836, 1.4919821, -2.8764486, -2.7740757]   \n",
      "10  [-0.94455636, 2.088384, -0.49599725, -0.82913977]   \n",
      "11  [-1.5202343, -2.9549665, -0.36733124, 0.38601142]   \n",
      "12   [-2.6314418, 0.26017183, 1.3968145, 0.098607786]   \n",
      "13   [2.9511583, -0.28796995, -1.1926268, 0.52440244]   \n",
      "\n",
      "                                           lep_E       lep_charge  \\\n",
      "0    [133562.22, 67614.64, 43027.395, 27380.545]    [1, -1, 1, 1]   \n",
      "1   [711421.06, 208545.92, 117873.27, 442695.56]   [-1, 1, -1, 1]   \n",
      "2    [65631.695, 40813.45, 18980.092, 14870.211]   [-1, 1, -1, 1]   \n",
      "0       [69411.28, 111049.2, 75193.62, 34712.21]   [1, 1, -1, -1]   \n",
      "1     [153897.1, 78442.11, 28591.844, 13971.219]   [-1, 1, 1, -1]   \n",
      "2    [251538.88, 82151.055, 60206.137, 97214.68]   [1, -1, 1, -1]   \n",
      "3   [227090.53, 167693.19, 66328.555, 13779.278]    [1, 1, 1, -1]   \n",
      "4     [73224.45, 126466.59, 34889.594, 173957.0]   [1, 1, -1, -1]   \n",
      "5     [69900.32, 106831.07, 21036.533, 30562.72]  [-1, 1, -1, -1]   \n",
      "6    [89521.33, 58494.727, 15101.078, 12242.521]   [-1, 1, -1, 1]   \n",
      "7     [66573.305, 49690.03, 39585.22, 22161.598]   [1, -1, 1, -1]   \n",
      "8   [30821.219, 155110.47, 10056.163, 31542.209]    [1, 1, 1, -1]   \n",
      "9    [100561.88, 50277.45, 13427.932, 11100.429]   [-1, 1, 1, -1]   \n",
      "10     [147995.7, 47919.28, 20494.871, 16786.13]   [1, -1, -1, 1]   \n",
      "11   [47699.086, 143188.0, 121132.23, 17081.977]    [1, -1, 1, 1]   \n",
      "12   [278108.38, 165856.42, 83112.02, 23855.018]   [-1, -1, 1, 1]   \n",
      "13   [207265.14, 48888.562, 69083.48, 15806.899]  [-1, 1, -1, -1]   \n",
      "\n",
      "            lep_type  mcWeight  scaleFactor_PILEUP  scaleFactor_ELE  \\\n",
      "0   [11, 11, 13, 13]       0.0                 0.0              0.0   \n",
      "1   [11, 13, 13, 11]       0.0                 0.0              0.0   \n",
      "2   [11, 11, 13, 13]       0.0                 0.0              0.0   \n",
      "0   [13, 11, 13, 11]       0.0                 0.0              0.0   \n",
      "1   [13, 13, 13, 13]       0.0                 0.0              0.0   \n",
      "2   [11, 11, 11, 11]       0.0                 0.0              0.0   \n",
      "3   [13, 11, 11, 13]       0.0                 0.0              0.0   \n",
      "4   [11, 13, 13, 13]       0.0                 0.0              0.0   \n",
      "5   [13, 13, 11, 13]       0.0                 0.0              0.0   \n",
      "6   [11, 11, 13, 13]       0.0                 0.0              0.0   \n",
      "7   [11, 11, 13, 13]       0.0                 0.0              0.0   \n",
      "8   [11, 11, 11, 13]       0.0                 0.0              0.0   \n",
      "9   [11, 11, 13, 13]       0.0                 0.0              0.0   \n",
      "10  [13, 13, 13, 13]       0.0                 0.0              0.0   \n",
      "11  [13, 11, 13, 11]       0.0                 0.0              0.0   \n",
      "12  [11, 11, 11, 11]       0.0                 0.0              0.0   \n",
      "13  [13, 13, 13, 11]       0.0                 0.0              0.0   \n",
      "\n",
      "    scaleFactor_MUON  scaleFactor_LepTRIGGER       mllll  \n",
      "0                0.0                     0.0  197.126962  \n",
      "1                0.0                     0.0  649.271931  \n",
      "2                0.0                     0.0   87.907098  \n",
      "0                0.0                     0.0  183.137566  \n",
      "1                0.0                     0.0   92.420670  \n",
      "2                0.0                     0.0  197.805142  \n",
      "3                0.0                     0.0  449.942698  \n",
      "4                0.0                     0.0  283.301041  \n",
      "5                0.0                     0.0  194.873607  \n",
      "6                0.0                     0.0  133.758732  \n",
      "7                0.0                     0.0  163.680107  \n",
      "8                0.0                     0.0  109.585625  \n",
      "9                0.0                     0.0  143.860151  \n",
      "10               0.0                     0.0   92.361622  \n",
      "11               0.0                     0.0  194.388417  \n",
      "12               0.0                     0.0  170.656495  \n",
      "13               0.0                     0.0  177.011501  \n"
     ]
    }
   ],
   "source": [
    "print(data['data'])"
   ]
  },
  {
   "cell_type": "code",
   "execution_count": 45,
   "metadata": {
    "scrolled": true
   },
   "outputs": [
    {
     "data": {
      "image/png": "[encoded data removed]",
      "text/plain": [
       "<Figure size 640x480 with 1 Axes>"
      ]
     },
     "metadata": {},
     "output_type": "display_data"
    }
   ],
   "source": [
    "plot_data(data)"
   ]
  },
  {
   "cell_type": "markdown",
   "metadata": {},
   "source": [
    "<a id='going_further'></a>"
   ]
  },
  {
   "cell_type": "code",
   "execution_count": null,
   "metadata": {},
   "outputs": [],
   "source": []
  }
 ],
 "metadata": {
  "kernelspec": {
   "display_name": "Python 3 (ipykernel)",
   "language": "python",
   "name": "python3"
  },
  "language_info": {
   "codemirror_mode": {
    "name": "ipython",
    "version": 3
   },
   "file_extension": ".py",
   "mimetype": "text/x-python",
   "name": "python",
   "nbconvert_exporter": "python",
   "pygments_lexer": "ipython3",
   "version": "3.11.5"
  }
 },
 "nbformat": 4,
 "nbformat_minor": 2
}
